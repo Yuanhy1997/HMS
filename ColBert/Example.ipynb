{
  "cells": [
    {
      "cell_type": "code",
      "execution_count": null,
      "metadata": {
        "id": "N0jxbVar4kln"
      },
      "outputs": [],
      "source": [
        "import colbert"
      ]
    },
    {
      "cell_type": "code",
      "execution_count": null,
      "metadata": {
        "id": "xQg9A-dtp1nB"
      },
      "outputs": [],
      "source": [
        "from colbert import Indexer, Searcher\n",
        "from colbert.infra import Run, RunConfig, ColBERTConfig\n",
        "from colbert.data import Queries, Collection"
      ]
    },
    {
      "cell_type": "markdown",
      "metadata": {
        "id": "RKJdAAbDu7PZ"
      },
      "source": [
        "## Indexing"
      ]
    },
    {
      "cell_type": "code",
      "execution_count": null,
      "metadata": {
        "id": "vKAdVN5MvDKD"
      },
      "outputs": [],
      "source": [
        "nbits = 2   # encode each dimension with 2 bits\n",
        "doc_maxlen = 300 # truncate passages at 300 tokens\n",
        "max_id = 10000\n",
        "\n",
        "index_name = f'Mimic.{nbits}bits'"
      ]
    },
    {
      "cell_type": "markdown",
      "source": [
        "## Data Clean"
      ],
      "metadata": {
        "id": "Aoavt78WlUR3"
      }
    },
    {
      "cell_type": "code",
      "source": [
        "import os\n",
        "import json\n",
        "import random\n",
        "import time\n",
        "import re\n",
        "import pickle\n",
        "import traceback\n",
        "from tqdm import tqdm\n",
        "import pandas as pd"
      ],
      "metadata": {
        "id": "TE5sLUWklZzQ"
      },
      "execution_count": null,
      "outputs": []
    },
    {
      "cell_type": "code",
      "source": [
        "queries = [\n",
        "    \"Identify the sentence discussing stage.\",\n",
        "    \"Identify the sentence discussing histology\",\n",
        "    \"Identify the sentence discussing tumor size\",\n",
        "    \"Identify the sentence discussing recurrence\"\n",
        "]"
      ],
      "metadata": {
        "id": "zAcHWqOYlcSJ"
      },
      "execution_count": null,
      "outputs": []
    },
    {
      "cell_type": "code",
      "source": [
        "## Functions to process the data\n",
        "def DataClean(data,labels_path,data_path=None,delete=None):\n",
        "\n",
        "    print('\\n\\nImporting and filtering database...')\n",
        "\n",
        "    if data is not None and not data.empty:\n",
        "        notes = data\n",
        "    else:\n",
        "        notes = pd.read_csv(data_path)\n",
        "\n",
        "    ints_str = '0123456789-#[]' # characters that usually main categories don't start with\n",
        "\n",
        "    print('\\n\\nSplitting each note into sections:\\n\\n')\n",
        "\n",
        "    notes_sections = {}\n",
        "\n",
        "    for note_index in tqdm(range(notes.shape[0])):\n",
        "        note = notes['text'][note_index].replace('\\n\\n\\n\\n','\\n').replace('\\n\\n\\n','\\n').replace('     ','\\n')\n",
        "        paragraphs = note.split('\\n')\n",
        "\n",
        "        subsections, new_section = [], ' '\n",
        "        for p in paragraphs:\n",
        "            line = p.strip()\n",
        "            if len(line)>0 and ':' in line and not (line[line.find(':')-1] in ints_str) and not(line[0] in ints_str):\n",
        "                subsections.append([new_section.strip()])\n",
        "                new_section = p + ' '\n",
        "            else:\n",
        "                new_section += p + ' '\n",
        "        subsections.append([new_section])\n",
        "        subsections.pop(0)\n",
        "\n",
        "        note_sect_tit,note_sect_par = [],[]\n",
        "        for sect in subsections:\n",
        "            note_sect_tit += [str(*sect)[0:str(*sect).find(':')]]\n",
        "            note_sect_par += [str(*sect)[str(*sect).find(':')+1:].strip()]\n",
        "        note_df = pd.DataFrame({'title':note_sect_tit,'category':'','text':note_sect_par, 'label':''})\n",
        "        notes_sections[notes['note_id'][note_index]] = note_df\n",
        "\n",
        "    f = open(labels_path, 'r')\n",
        "    obj_label = f.readlines()\n",
        "    obj_label_dict = {}\n",
        "    i = 0\n",
        "    for s in obj_label:\n",
        "        i += 1\n",
        "        if '/' in s:\n",
        "            buffer = s.strip('\\n').lower().split('/')\n",
        "            for item in buffer:\n",
        "                obj_label_dict[item] = i\n",
        "        else:\n",
        "            obj_label_dict[s.strip('\\n').lower()] = i\n",
        "    f.close()\n",
        "\n",
        "    for key in tqdm(list(notes_sections.keys())):\n",
        "        buffer = 'begin_title'\n",
        "        t = list(notes_sections[key]['title'])\n",
        "        for idx in range(len(t)):\n",
        "            for item in list(obj_label_dict.keys()):\n",
        "                if item in t[idx].lower() and len(t[idx].lower())>2:\n",
        "                    buffer = item\n",
        "                    notes_sections[key]['category'][idx] = buffer\n",
        "                    notes_sections[key]['label'][idx] = obj_label_dict[buffer]\n",
        "                    break\n",
        "            notes_sections[key]['category'][idx] = buffer\n",
        "            notes_sections[key]['label'][idx] = obj_label_dict[buffer]\n",
        "\n",
        "    notes_sections_output = {}\n",
        "    row_id  = notes_sections.keys()\n",
        "    for key in tqdm(row_id):\n",
        "        buffer = ''\n",
        "        note_sect_tit, note_sect_par, note_sect_lab = [], [], []\n",
        "        for i in range(len(notes_sections[key]['category'])):\n",
        "            if buffer != notes_sections[key]['category'][i]:\n",
        "                buffer = notes_sections[key]['category'][i]\n",
        "                note_sect_tit.append(buffer)\n",
        "                note_sect_lab.append(notes_sections[key]['title'][i])\n",
        "                note_sect_par.append(notes_sections[key]['text'][i])\n",
        "                # if buffer == 'followup instruction' or buffer == 'follow up' or buffer == 'follow-up':\n",
        "                #     break\n",
        "            else:\n",
        "                note_sect_par[-1] = note_sect_par[-1] + ' ' + notes_sections[key]['title'][i] + ' ' + notes_sections[key]['text'][i]\n",
        "        note_df = pd.DataFrame({'title': note_sect_tit, 'text': note_sect_par, 'label': note_sect_lab})\n",
        "        notes_sections_output[key] = note_df\n",
        "\n",
        "\n",
        "    notes_sections = notes_sections_output\n",
        "\n",
        "    if delete != None:\n",
        "        for key,value in notes_sections.items():\n",
        "            notes_sections[key] = notes_sections[key][~notes_sections[key]['label'].isin(delete)]\n",
        "\n",
        "    return notes_sections"
      ],
      "metadata": {
        "id": "3-ioghj2lWJn"
      },
      "execution_count": null,
      "outputs": []
    },
    {
      "cell_type": "code",
      "source": [
        "df  = pd.read_csv(\"/content/malignant_neoplasm_updated_first_100_rows.csv\").iloc[:10,]\n"
      ],
      "metadata": {
        "id": "KLeyBxsXlX7t"
      },
      "execution_count": null,
      "outputs": []
    },
    {
      "cell_type": "code",
      "source": [
        "NotesSections = DataClean(data=df,\n",
        "                          labels_path=\"/content/labels.txt\",\n",
        "                          delete=['Name','Admission Date','Discharge Date','Date of Birth','Followup Instructions'])"
      ],
      "metadata": {
        "colab": {
          "base_uri": "https://localhost:8080/"
        },
        "id": "yk6nrhfwlN9f",
        "outputId": "7ccb44bd-47ad-4738-f002-2f1db758355b"
      },
      "execution_count": null,
      "outputs": [
        {
          "output_type": "stream",
          "name": "stdout",
          "text": [
            "\n",
            "\n",
            "Importing and filtering database...\n",
            "\n",
            "\n",
            "Splitting each note into sections:\n",
            "\n",
            "\n"
          ]
        },
        {
          "output_type": "stream",
          "name": "stderr",
          "text": [
            "100%|██████████| 10/10 [00:00<00:00, 641.76it/s]\n",
            "100%|██████████| 10/10 [00:00<00:00, 208.45it/s]\n",
            "100%|██████████| 10/10 [00:00<00:00, 1390.73it/s]\n"
          ]
        }
      ]
    },
    {
      "cell_type": "markdown",
      "source": [
        "## Index & Search"
      ],
      "metadata": {
        "id": "OIe-ISqGltrs"
      }
    },
    {
      "cell_type": "code",
      "source": [
        "import re"
      ],
      "metadata": {
        "id": "WbW4oRSCnlk3"
      },
      "execution_count": null,
      "outputs": []
    },
    {
      "cell_type": "code",
      "source": [
        "checkpoint = 'colbert-ir/colbertv2.0'\n",
        "\n",
        "Data = {}\n",
        "\n",
        "for key,value in NotesSections.items():\n",
        "\n",
        "  Data[key] = {}\n",
        "\n",
        "  Strings = NotesSections[key]['text'].tolist()\n",
        "\n",
        "  ## Delete some useless infomation\n",
        "  paragraphs = [s for s in Strings if s != \"\"]\n",
        "\n",
        "  collection = []\n",
        "\n",
        "  for para in paragraphs:\n",
        "\n",
        "    Sentences = re.split(r'(?<!\\w\\.\\w.)(?<![A-Z]\\.)(?<![A-Z][a-z]\\.)(?<! [a-z]\\.)(?<![A-Z][a-z][a-z]\\.)(?<=\\.|\\?|\\!)\\\"*\\s*\\s*(?:\\W*)(?<![A-Z])', para)\n",
        "\n",
        "    collection = collection + [s for s in Sentences if len(s) > 10]\n",
        "\n",
        "  Data[key]['content'] = ''.join(collection)\n",
        "\n",
        "  Data[key]['qas'] = []\n",
        "\n",
        "  with Run().context(RunConfig(nranks=1,rank=1, experiment='notebook')):  # nranks specifies the number of GPUs to use\n",
        "\n",
        "      config = ColBERTConfig(doc_maxlen=doc_maxlen, nbits=nbits, kmeans_niters=4) # kmeans_niters specifies the number of iterations of k-means clustering; 4 is a good and fast default.\n",
        "                                                                                  # Consider larger numbers for small datasets.\n",
        "      indexer = Indexer(checkpoint=checkpoint, config=config)\n",
        "      indexer.index(name=index_name, collection=collection, overwrite=True)\n",
        "\n",
        "  with Run().context(RunConfig(experiment='notebook')):\n",
        "\n",
        "    searcher = Searcher(index=index_name, collection=collection)\n",
        "\n",
        "  for query in queries:\n",
        "\n",
        "    qas = {}\n",
        "\n",
        "    print(f\"#> {query}\")\n",
        "\n",
        "    qas[query] = []\n",
        "\n",
        "    # Find the top-k passages for this query\n",
        "    results = searcher.search(query, k=5)\n",
        "\n",
        "    # Print out the top-k retrieved passages\n",
        "    for passage_id, passage_rank, passage_score in zip(*results):\n",
        "        print(f\"\\t [{passage_rank}] \\t\\t {passage_score:.1f} \\t\\t {searcher.collection[passage_id]}\")\n",
        "        qas[query].append(searcher.collection[passage_id])\n",
        "\n",
        "    Data[key]['qas'].append(qas)\n"
      ],
      "metadata": {
        "colab": {
          "base_uri": "https://localhost:8080/"
        },
        "id": "zK1yyGZolwSs",
        "outputId": "9436f115-7533-4e1d-feaa-9a5880804c00"
      },
      "execution_count": null,
      "outputs": [
        {
          "output_type": "stream",
          "name": "stdout",
          "text": [
            "\n",
            "\n",
            "[Jul 05, 12:17:01] #> Note: Output directory /content/experiments/notebook/indexes/Mimic.2bits already exists\n",
            "\n",
            "\n",
            "[Jul 05, 12:17:01] #> Will delete 10 files already at /content/experiments/notebook/indexes/Mimic.2bits in 20 seconds...\n",
            "#> Joined...\n",
            "[Jul 05, 12:17:36] #> Loading codec...\n",
            "[Jul 05, 12:17:36] #> Loading IVF...\n",
            "[Jul 05, 12:17:36] #> Loading doclens...\n"
          ]
        },
        {
          "output_type": "stream",
          "name": "stderr",
          "text": [
            "100%|██████████| 1/1 [00:00<00:00, 5698.78it/s]"
          ]
        },
        {
          "output_type": "stream",
          "name": "stdout",
          "text": [
            "[Jul 05, 12:17:36] #> Loading codes and residuals...\n"
          ]
        },
        {
          "output_type": "stream",
          "name": "stderr",
          "text": [
            "\n",
            "100%|██████████| 1/1 [00:00<00:00, 1150.39it/s]"
          ]
        },
        {
          "output_type": "stream",
          "name": "stdout",
          "text": [
            "#> Identify the sentence discussing stage.\n",
            "\n",
            "#> QueryTokenizer.tensorize(batch_text[0], batch_background[0], bsize) ==\n",
            "#> Input: . Identify the sentence discussing stage., \t\t True, \t\t None\n",
            "#> Output IDs: torch.Size([32]), tensor([  101,     1,  6709,  1996,  6251, 10537,  2754,  1012,   102,   103,\n",
            "          103,   103,   103,   103,   103,   103,   103,   103,   103,   103,\n",
            "          103,   103,   103,   103,   103,   103,   103,   103,   103,   103,\n",
            "          103,   103])\n",
            "#> Output Mask: torch.Size([32]), tensor([1, 1, 1, 1, 1, 1, 1, 1, 1, 0, 0, 0, 0, 0, 0, 0, 0, 0, 0, 0, 0, 0, 0, 0,\n",
            "        0, 0, 0, 0, 0, 0, 0, 0])\n",
            "\n",
            "\t [1] \t\t 8.1 \t\t No separate primary lesion identified.\n",
            "\t [2] \t\t 7.7 \t\t No pelvic masses are identified.\n",
            "\t [3] \t\t 7.0 \t\t Bilateral symmetrical sclerosis is identified on the iliac side of the sacroiliac joints, consistent with osteitis condensans ilii.\n",
            "\t [4] \t\t 6.6 \t\t Assess for extent of lesions.\n",
            "\t [5] \t\t 6.2 \t\t Calcification is noted within the right pleural cavity (sequence 3 image 24), which is likely related to the patient's history of previous right lung surgery.\n",
            "#> Identify the sentence discussing histology\n",
            "\t [1] \t\t 8.1 \t\t Multiple pulmonary and hepatic metastases.\n",
            "\t [2] \t\t 7.0 \t\t No pelvic masses are identified.\n",
            "\t [3] \t\t 6.8 \t\t No separate primary lesion identified.\n",
            "\t [4] \t\t 6.5 \t\t Calcification is noted within the right pleural cavity (sequence 3 image 24), which is likely related to the patient's history of previous right lung surgery.\n",
            "\t [5] \t\t 6.4 \t\t Assess for extent of lesions.\n",
            "#> Identify the sentence discussing tumor size\n",
            "\t [1] \t\t 10.7 \t\t Cardiac size is normal.\n",
            "\t [2] \t\t 9.5 \t\t No pelvic masses are identified.\n",
            "\t [3] \t\t 9.1 \t\t Assess for extent of lesions.\n",
            "\t [4] \t\t 8.1 \t\t No separate primary lesion identified.\n",
            "\t [5] \t\t 7.6 \t\t New diagnosis of metastatic cancer with unknown primary.\n",
            "#> Identify the sentence discussing recurrence\n",
            "\t [1] \t\t 7.6 \t\t Calcification is noted within the right pleural cavity (sequence 3 image 24), which is likely related to the patient's history of previous right lung surgery.\n",
            "\t [2] \t\t 6.9 \t\t No pericardial effusion.\n",
            "\t [3] \t\t 6.6 \t\t No separate primary lesion identified.\n",
            "\t [4] \t\t 6.5 \t\t No pleural effusion.\n",
            "\t [5] \t\t 6.5 \t\t The bladder is unremarkable.\n",
            "\n",
            "\n",
            "[Jul 05, 12:17:37] #> Note: Output directory /content/experiments/notebook/indexes/Mimic.2bits already exists\n",
            "\n",
            "\n",
            "[Jul 05, 12:17:37] #> Will delete 10 files already at /content/experiments/notebook/indexes/Mimic.2bits in 20 seconds...\n"
          ]
        },
        {
          "output_type": "stream",
          "name": "stderr",
          "text": [
            "\n"
          ]
        },
        {
          "output_type": "stream",
          "name": "stdout",
          "text": [
            "#> Starting...\n",
            "#> Joined...\n",
            "[Jul 05, 12:18:11] #> Loading codec...\n",
            "[Jul 05, 12:18:11] #> Loading IVF...\n",
            "[Jul 05, 12:18:11] #> Loading doclens...\n"
          ]
        },
        {
          "output_type": "stream",
          "name": "stderr",
          "text": [
            "100%|██████████| 1/1 [00:00<00:00, 4993.22it/s]"
          ]
        },
        {
          "output_type": "stream",
          "name": "stdout",
          "text": [
            "[Jul 05, 12:18:11] #> Loading codes and residuals...\n"
          ]
        },
        {
          "output_type": "stream",
          "name": "stderr",
          "text": [
            "\n",
            "100%|██████████| 1/1 [00:00<00:00, 1160.89it/s]"
          ]
        },
        {
          "output_type": "stream",
          "name": "stdout",
          "text": [
            "#> Identify the sentence discussing stage.\n",
            "\n",
            "#> QueryTokenizer.tensorize(batch_text[0], batch_background[0], bsize) ==\n",
            "#> Input: . Identify the sentence discussing stage., \t\t True, \t\t None\n",
            "#> Output IDs: torch.Size([32]), tensor([  101,     1,  6709,  1996,  6251, 10537,  2754,  1012,   102,   103,\n",
            "          103,   103,   103,   103,   103,   103,   103,   103,   103,   103,\n",
            "          103,   103,   103,   103,   103,   103,   103,   103,   103,   103,\n",
            "          103,   103])\n",
            "#> Output Mask: torch.Size([32]), tensor([1, 1, 1, 1, 1, 1, 1, 1, 1, 0, 0, 0, 0, 0, 0, 0, 0, 0, 0, 0, 0, 0, 0, 0,\n",
            "        0, 0, 0, 0, 0, 0, 0, 0])\n",
            "\n",
            "\t [1] \t\t 6.2 \t\t There may be mild pulmonary vascular congestion.\n",
            "\t [2] \t\t 5.4 \t\t The patient is status post right lower lobectomy.\n",
            "\t [3] \t\t 5.2 \t\t Innumerable pulmonary metastases.\n",
            "\t [4] \t\t 4.6 \t\t The mediastinal and hilar contours are relatively unremarkable.\n",
            "\t [5] \t\t 4.4 \t\t Possible mild pulmonary vascular congestion.\n",
            "#> Identify the sentence discussing histology\n",
            "\t [1] \t\t 5.2 \t\t The patient is status post right lower lobectomy.\n",
            "\t [2] \t\t 5.1 \t\t The mediastinal and hilar contours are relatively unremarkable.\n",
            "\t [3] \t\t 4.8 \t\t Semi-upright AP view of the chest.\n",
            "\t [4] \t\t 4.7 \t\t Innumerable pulmonary metastases.\n",
            "\t [5] \t\t 4.4 \t\t Possible mild pulmonary vascular congestion.\n",
            "#> Identify the sentence discussing tumor size\n",
            "\t [1] \t\t 11.2 \t\t The heart size is borderline enlarged.\n",
            "\t [2] \t\t 6.7 \t\t Dyspnea and history of lung cancer.\n",
            "\t [3] \t\t 6.1 \t\t Low lung volumes.\n",
            "\t [4] \t\t 5.4 \t\t Semi-upright AP view of the chest.\n",
            "\t [5] \t\t 5.3 \t\t The patient is status post right lower lobectomy.\n",
            "#> Identify the sentence discussing recurrence\n",
            "\t [1] \t\t 6.7 \t\t Innumerable pulmonary metastases.\n",
            "\t [2] \t\t 5.8 \t\t Rib deformities within the right hemithorax is compatible with prior postsurgical changes.\n",
            "\t [3] \t\t 5.5 \t\t No new focal consolidation, pleural effusion or pneumothorax is seen, with chronic elevation of right hemidiaphragm again seen.\n",
            "\t [4] \t\t 5.3 \t\t Innumerable nodules are demonstrated in both lungs, more pronounced in the left upper and lower lung fields compatible with metastatic disease.\n",
            "\t [5] \t\t 5.2 \t\t The patient is status post right lower lobectomy.\n",
            "\n",
            "\n",
            "[Jul 05, 12:18:11] #> Note: Output directory /content/experiments/notebook/indexes/Mimic.2bits already exists\n",
            "\n",
            "\n",
            "[Jul 05, 12:18:11] #> Will delete 10 files already at /content/experiments/notebook/indexes/Mimic.2bits in 20 seconds...\n"
          ]
        },
        {
          "output_type": "stream",
          "name": "stderr",
          "text": [
            "\n"
          ]
        },
        {
          "output_type": "stream",
          "name": "stdout",
          "text": [
            "#> Starting...\n",
            "#> Joined...\n",
            "[Jul 05, 12:18:46] #> Loading codec...\n",
            "[Jul 05, 12:18:46] #> Loading IVF...\n",
            "[Jul 05, 12:18:46] #> Loading doclens...\n"
          ]
        },
        {
          "output_type": "stream",
          "name": "stderr",
          "text": [
            "100%|██████████| 1/1 [00:00<00:00, 4999.17it/s]"
          ]
        },
        {
          "output_type": "stream",
          "name": "stdout",
          "text": [
            "[Jul 05, 12:18:46] #> Loading codes and residuals...\n"
          ]
        },
        {
          "output_type": "stream",
          "name": "stderr",
          "text": [
            "\n",
            "100%|██████████| 1/1 [00:00<00:00, 1111.96it/s]"
          ]
        },
        {
          "output_type": "stream",
          "name": "stdout",
          "text": [
            "#> Identify the sentence discussing stage.\n",
            "\n",
            "#> QueryTokenizer.tensorize(batch_text[0], batch_background[0], bsize) ==\n",
            "#> Input: . Identify the sentence discussing stage., \t\t True, \t\t None\n",
            "#> Output IDs: torch.Size([32]), tensor([  101,     1,  6709,  1996,  6251, 10537,  2754,  1012,   102,   103,\n",
            "          103,   103,   103,   103,   103,   103,   103,   103,   103,   103,\n",
            "          103,   103,   103,   103,   103,   103,   103,   103,   103,   103,\n",
            "          103,   103])\n",
            "#> Output Mask: torch.Size([32]), tensor([1, 1, 1, 1, 1, 1, 1, 1, 1, 0, 0, 0, 0, 0, 0, 0, 0, 0, 0, 0, 0, 0, 0, 0,\n",
            "        0, 0, 0, 0, 0, 0, 0, 0])\n",
            "\n",
            "\t [1] \t\t 5.1 \t\t The airways are patent to the subsegmental level.\n",
            "\t [2] \t\t 5.1 \t\t Coronal and sagittal reformations are performed.\n",
            "\t [3] \t\t 4.9 \t\t Shortness of breath, evaluate for pulmonary embolism.\n",
            "\t [4] \t\t 4.5 \t\t No pericardial effusion.\n",
            "\t [5] \t\t 4.4 \t\t There are innumerable pulmonary nodules bilaterally, similar in appearance to prior study in most cases although some have mildly increased.\n",
            "#> Identify the sentence discussing histology\n",
            "\t [1] \t\t 5.2 \t\t The largest measures 10 mm in diameter within the right lower lobe.\n",
            "\t [2] \t\t 5.2 \t\t Shortness of breath, evaluate for pulmonary embolism.\n",
            "\t [3] \t\t 5.0 \t\t CT torso on ___.\n",
            "\t [4] \t\t 5.0 \t\t Innumerable bilateral pulmonary nodules, simas seen on the prior CT study on ___, slightly increased.\n",
            "\t [5] \t\t 5.0 \t\t There are innumerable pulmonary nodules bilaterally, similar in appearance to prior study in most cases although some have mildly increased.\n",
            "#> Identify the sentence discussing tumor size\n",
            "\t [1] \t\t 11.8 \t\t The largest measures 10 mm in diameter within the right lower lobe.\n",
            "\t [2] \t\t 10.3 \t\t Heart size is normal.\n",
            "\t [3] \t\t 9.9 \t\t An enlarged subcarinal lymph node measuring 1.\n",
            "\t [4] \t\t 9.2 \t\t 6 cm is unchanged.\n",
            "\t [5] \t\t 9.1 \t\t The liver is very enlarged with multiple low-density lesions, similar to prior study.\n",
            "#> Identify the sentence discussing recurrence\n",
            "\t [1] \t\t 6.5 \t\t No pericardial effusion.\n",
            "\t [2] \t\t 6.2 \t\t Coronal and sagittal reformations are performed.\n",
            "\t [3] \t\t 5.8 \t\t Calcification along the right lateral lung is unchanged and consistent with previous right lung surgery.\n",
            "\t [4] \t\t 5.6 \t\t There are innumerable pulmonary nodules bilaterally, similar in appearance to prior study in most cases although some have mildly increased.\n",
            "\t [5] \t\t 5.1 \t\t Enlarged liver with multiple hypodense lesions, with suggestion of increased burden of disease.\n",
            "\n",
            "\n",
            "[Jul 05, 12:18:47] #> Note: Output directory /content/experiments/notebook/indexes/Mimic.2bits already exists\n",
            "\n",
            "\n",
            "[Jul 05, 12:18:47] #> Will delete 10 files already at /content/experiments/notebook/indexes/Mimic.2bits in 20 seconds...\n"
          ]
        },
        {
          "output_type": "stream",
          "name": "stderr",
          "text": [
            "\n"
          ]
        },
        {
          "output_type": "stream",
          "name": "stdout",
          "text": [
            "#> Starting...\n",
            "#> Joined...\n",
            "[Jul 05, 12:19:21] #> Loading codec...\n",
            "[Jul 05, 12:19:21] #> Loading IVF...\n",
            "[Jul 05, 12:19:21] #> Loading doclens...\n"
          ]
        },
        {
          "output_type": "stream",
          "name": "stderr",
          "text": [
            "100%|██████████| 1/1 [00:00<00:00, 5482.75it/s]"
          ]
        },
        {
          "output_type": "stream",
          "name": "stdout",
          "text": [
            "[Jul 05, 12:19:21] #> Loading codes and residuals...\n"
          ]
        },
        {
          "output_type": "stream",
          "name": "stderr",
          "text": [
            "\n",
            "100%|██████████| 1/1 [00:00<00:00, 352.97it/s]"
          ]
        },
        {
          "output_type": "stream",
          "name": "stdout",
          "text": [
            "#> Identify the sentence discussing stage.\n",
            "\n",
            "#> QueryTokenizer.tensorize(batch_text[0], batch_background[0], bsize) ==\n",
            "#> Input: . Identify the sentence discussing stage., \t\t True, \t\t None\n",
            "#> Output IDs: torch.Size([32]), tensor([  101,     1,  6709,  1996,  6251, 10537,  2754,  1012,   102,   103,\n",
            "          103,   103,   103,   103,   103,   103,   103,   103,   103,   103,\n",
            "          103,   103,   103,   103,   103,   103,   103,   103,   103,   103,\n",
            "          103,   103])\n",
            "#> Output Mask: torch.Size([32]), tensor([1, 1, 1, 1, 1, 1, 1, 1, 1, 0, 0, 0, 0, 0, 0, 0, 0, 0, 0, 0, 0, 0, 0, 0,\n",
            "        0, 0, 0, 0, 0, 0, 0, 0])\n",
            "\n",
            "\t [1] \t\t 5.1 \t\t The liver is diffusely involved with innumerable metastatic nodules throughout all portions of the liver and replacing much of the liver parenchyma.\n",
            "\t [2] \t\t 3.7 \t\t There is no evidence of ascites or splenomegaly.\n",
            "\t [3] \t\t 3.6 \t\t ___ female with known metastatic cancer, unknown primary with liver metastases and elevated liver function tests.\n",
            "\t [4] \t\t 3.3 \t\t Limited views of the kidneys show no hydronephrosis.\n",
            "\t [5] \t\t 3.3 \t\t Extensive diffuse hepatic metastatic disease.\n",
            "#> Identify the sentence discussing histology\n",
            "\t [1] \t\t 6.3 \t\t Extensive diffuse hepatic metastatic disease.\n",
            "\t [2] \t\t 4.7 \t\t There is no evidence of ascites or splenomegaly.\n",
            "\t [3] \t\t 4.1 \t\t The liver is diffusely involved with innumerable metastatic nodules throughout all portions of the liver and replacing much of the liver parenchyma.\n",
            "\t [4] \t\t 3.7 \t\t Limited views of the kidneys show no hydronephrosis.\n",
            "\t [5] \t\t 3.6 \t\t No evidence of biliary duct obstruction.\n",
            "#> Identify the sentence discussing tumor size\n",
            "\t [1] \t\t 9.3 \t\t The gallbladder is normal in size and partially filled with sludge.\n",
            "\t [2] \t\t 7.6 \t\t ___ female with known metastatic cancer, unknown primary with liver metastases and elevated liver function tests.\n",
            "\t [3] \t\t 6.5 \t\t The liver is diffusely involved with innumerable metastatic nodules throughout all portions of the liver and replacing much of the liver parenchyma.\n",
            "\t [4] \t\t 3.9 \t\t Extensive diffuse hepatic metastatic disease.\n",
            "\t [5] \t\t 3.3 \t\t Limited views of the kidneys show no hydronephrosis.\n",
            "#> Identify the sentence discussing recurrence\n",
            "\t [1] \t\t 5.3 \t\t The liver is diffusely involved with innumerable metastatic nodules throughout all portions of the liver and replacing much of the liver parenchyma.\n",
            "\t [2] \t\t 4.4 \t\t Limited views of the kidneys show no hydronephrosis.\n",
            "\t [3] \t\t 4.3 \t\t There is no evidence of ascites or splenomegaly.\n",
            "\t [4] \t\t 4.2 \t\t Extensive diffuse hepatic metastatic disease.\n",
            "\t [5] \t\t 4.0 \t\t No evidence of biliary duct obstruction.\n",
            "\n",
            "\n",
            "[Jul 05, 12:19:21] #> Note: Output directory /content/experiments/notebook/indexes/Mimic.2bits already exists\n",
            "\n",
            "\n",
            "[Jul 05, 12:19:21] #> Will delete 10 files already at /content/experiments/notebook/indexes/Mimic.2bits in 20 seconds...\n"
          ]
        },
        {
          "output_type": "stream",
          "name": "stderr",
          "text": [
            "\n"
          ]
        },
        {
          "output_type": "stream",
          "name": "stdout",
          "text": [
            "#> Starting...\n",
            "#> Joined...\n",
            "[Jul 05, 12:19:56] #> Loading codec...\n",
            "[Jul 05, 12:19:56] #> Loading IVF...\n",
            "[Jul 05, 12:19:56] #> Loading doclens...\n"
          ]
        },
        {
          "output_type": "stream",
          "name": "stderr",
          "text": [
            "100%|██████████| 1/1 [00:00<00:00, 5562.74it/s]"
          ]
        },
        {
          "output_type": "stream",
          "name": "stdout",
          "text": [
            "[Jul 05, 12:19:56] #> Loading codes and residuals...\n"
          ]
        },
        {
          "output_type": "stream",
          "name": "stderr",
          "text": [
            "\n",
            "100%|██████████| 1/1 [00:00<00:00, 373.76it/s]"
          ]
        },
        {
          "output_type": "stream",
          "name": "stdout",
          "text": [
            "#> Identify the sentence discussing stage.\n",
            "\n",
            "#> QueryTokenizer.tensorize(batch_text[0], batch_background[0], bsize) ==\n",
            "#> Input: . Identify the sentence discussing stage., \t\t True, \t\t None\n",
            "#> Output IDs: torch.Size([32]), tensor([  101,     1,  6709,  1996,  6251, 10537,  2754,  1012,   102,   103,\n",
            "          103,   103,   103,   103,   103,   103,   103,   103,   103,   103,\n",
            "          103,   103,   103,   103,   103,   103,   103,   103,   103,   103,\n",
            "          103,   103])\n",
            "#> Output Mask: torch.Size([32]), tensor([1, 1, 1, 1, 1, 1, 1, 1, 1, 0, 0, 0, 0, 0, 0, 0, 0, 0, 0, 0, 0, 0, 0, 0,\n",
            "        0, 0, 0, 0, 0, 0, 0, 0])\n",
            "\n",
            "\t [1] \t\t 7.3 \t\t No mass is identified.\n",
            "\t [2] \t\t 5.3 \t\t MRI is more sensitive for evaluation of metastases.\n",
            "\t [3] \t\t 5.3 \t\t No contrast was administered.\n",
            "\t [4] \t\t 4.5 \t\t The visualized paranasal sinuses and mastoid air cells are well aerated.\n",
            "\t [5] \t\t 4.5 \t\t Newly diagnosed metastatic colon cancer, evaluate for brain metastases, altered mental status.\n",
            "#> Identify the sentence discussing histology\n",
            "\t [1] \t\t 8.5 \t\t No mass is identified.\n",
            "\t [2] \t\t 5.6 \t\t CT head on ___.\n",
            "\t [3] \t\t 4.8 \t\t No contrast was administered.\n",
            "\t [4] \t\t 4.2 \t\t The visualized paranasal sinuses and mastoid air cells are well aerated.\n",
            "#> Identify the sentence discussing tumor size\n",
            "\t [1] \t\t 9.7 \t\t No mass is identified.\n",
            "\t [2] \t\t 9.2 \t\t The ventricles and sulci are normal in size and configuration for the patient's age.\n",
            "\t [3] \t\t 9.1 \t\t Newly diagnosed metastatic colon cancer, evaluate for brain metastases, altered mental status.\n",
            "\t [4] \t\t 5.2 \t\t The gray-white differentiation is preserved.\n",
            "\t [5] \t\t 3.5 \t\t The visualized paranasal sinuses and mastoid air cells are well aerated.\n",
            "#> Identify the sentence discussing recurrence\n",
            "\t [1] \t\t 5.7 \t\t No mass is identified.\n",
            "\t [2] \t\t 5.5 \t\t No contrast was administered.\n",
            "\t [3] \t\t 4.9 \t\t Contiguous axial images were obtained through the brain.\n",
            "\t [4] \t\t 4.4 \t\t There is no evidence of acute hemorrhage, edema, mass, mass effect, or acute territorial infarction.\n",
            "\t [5] \t\t 3.8 \t\t The visualized paranasal sinuses and mastoid air cells are well aerated.\n",
            "\n",
            "\n",
            "[Jul 05, 12:19:57] #> Note: Output directory /content/experiments/notebook/indexes/Mimic.2bits already exists\n",
            "\n",
            "\n",
            "[Jul 05, 12:19:57] #> Will delete 10 files already at /content/experiments/notebook/indexes/Mimic.2bits in 20 seconds...\n"
          ]
        },
        {
          "output_type": "stream",
          "name": "stderr",
          "text": [
            "\n"
          ]
        },
        {
          "output_type": "stream",
          "name": "stdout",
          "text": [
            "#> Starting...\n",
            "#> Joined...\n",
            "[Jul 05, 12:20:31] #> Loading codec...\n",
            "[Jul 05, 12:20:31] #> Loading IVF...\n",
            "[Jul 05, 12:20:31] #> Loading doclens...\n"
          ]
        },
        {
          "output_type": "stream",
          "name": "stderr",
          "text": [
            "100%|██████████| 1/1 [00:00<00:00, 5053.38it/s]"
          ]
        },
        {
          "output_type": "stream",
          "name": "stdout",
          "text": [
            "[Jul 05, 12:20:31] #> Loading codes and residuals...\n"
          ]
        },
        {
          "output_type": "stream",
          "name": "stderr",
          "text": [
            "\n",
            "100%|██████████| 1/1 [00:00<00:00, 1151.96it/s]"
          ]
        },
        {
          "output_type": "stream",
          "name": "stdout",
          "text": [
            "#> Identify the sentence discussing stage.\n",
            "\n",
            "#> QueryTokenizer.tensorize(batch_text[0], batch_background[0], bsize) ==\n",
            "#> Input: . Identify the sentence discussing stage., \t\t True, \t\t None\n",
            "#> Output IDs: torch.Size([32]), tensor([  101,     1,  6709,  1996,  6251, 10537,  2754,  1012,   102,   103,\n",
            "          103,   103,   103,   103,   103,   103,   103,   103,   103,   103,\n",
            "          103,   103,   103,   103,   103,   103,   103,   103,   103,   103,\n",
            "          103,   103])\n",
            "#> Output Mask: torch.Size([32]), tensor([1, 1, 1, 1, 1, 1, 1, 1, 1, 0, 0, 0, 0, 0, 0, 0, 0, 0, 0, 0, 0, 0, 0, 0,\n",
            "        0, 0, 0, 0, 0, 0, 0, 0])\n",
            "\n",
            "\t [1] \t\t 6.7 \t\t No fracture is identified.\n",
            "\t [2] \t\t 6.7 \t\t NOTE ADDED AT ATTENDING REVIEW Although I agree there is no evidence of hemorrhage, the mass effect and edema associated with the right frontal lesion have increased since ___.\n",
            "\t [3] \t\t 6.4 \t\t Follow up post-op changes.\n",
            "\t [4] \t\t 4.2 \t\t Basal cisterns remain patent.\n",
            "\t [5] \t\t 2.7 \t\t Axial bone algorithm reformats in coronal and sagittal images were also obtained.\n",
            "#> Identify the sentence discussing histology\n",
            "\t [1] \t\t 7.6 \t\t No fracture is identified.\n",
            "\t [2] \t\t 5.8 \t\t Area of hypodensity in the right frontal lobe involving the central sulcus is unchanged.\n",
            "\t [3] \t\t 5.2 \t\t NOTE ADDED AT ATTENDING REVIEW Although I agree there is no evidence of hemorrhage, the mass effect and edema associated with the right frontal lesion have increased since ___.\n",
            "\t [4] \t\t 4.9 \t\t Brain abscess status post right craniotomy.\n",
            "\t [5] \t\t 4.7 \t\t Additional bilateral white matter hypodensities are consistent with patient's known history of sclerosis.\n",
            "#> Identify the sentence discussing tumor size\n",
            "\t [1] \t\t 8.4 \t\t Ventricles and sulci are normal in size and configuration for age.\n",
            "\t [2] \t\t 7.2 \t\t The previously seen small amount of pneumocephalus has resolved.\n",
            "\t [3] \t\t 6.0 \t\t CTDIvol 65mGy DLP 1130 mGy-cm\n",
            "\t [4] \t\t 6.0 \t\t NOTE ADDED AT ATTENDING REVIEW Although I agree there is no evidence of hemorrhage, the mass effect and edema associated with the right frontal lesion have increased since ___.\n",
            "\t [5] \t\t 6.0 \t\t Area of hypodensity in the right frontal lobe involving the central sulcus is unchanged.\n",
            "#> Identify the sentence discussing recurrence\n",
            "\t [1] \t\t 7.3 \t\t No fracture is identified.\n",
            "\t [2] \t\t 7.0 \t\t Follow up post-op changes.\n",
            "\t [3] \t\t 6.9 \t\t NOTE ADDED AT ATTENDING REVIEW Although I agree there is no evidence of hemorrhage, the mass effect and edema associated with the right frontal lesion have increased since ___.\n",
            "\t [4] \t\t 6.2 \t\t Stable post-operative changes with unchanged hypodensity in the right frontal vertex.\n",
            "\t [5] \t\t 6.0 \t\t There is no intra or extra-axial hemorrhage.\n",
            "\n",
            "\n",
            "[Jul 05, 12:20:32] #> Note: Output directory /content/experiments/notebook/indexes/Mimic.2bits already exists\n",
            "\n",
            "\n",
            "[Jul 05, 12:20:32] #> Will delete 10 files already at /content/experiments/notebook/indexes/Mimic.2bits in 20 seconds...\n"
          ]
        },
        {
          "output_type": "stream",
          "name": "stderr",
          "text": [
            "\n"
          ]
        },
        {
          "output_type": "stream",
          "name": "stdout",
          "text": [
            "#> Starting...\n",
            "#> Joined...\n",
            "[Jul 05, 12:21:07] #> Loading codec...\n",
            "[Jul 05, 12:21:07] #> Loading IVF...\n",
            "[Jul 05, 12:21:07] #> Loading doclens...\n"
          ]
        },
        {
          "output_type": "stream",
          "name": "stderr",
          "text": [
            "100%|██████████| 1/1 [00:00<00:00, 1509.29it/s]"
          ]
        },
        {
          "output_type": "stream",
          "name": "stdout",
          "text": [
            "[Jul 05, 12:21:07] #> Loading codes and residuals...\n"
          ]
        },
        {
          "output_type": "stream",
          "name": "stderr",
          "text": [
            "\n",
            "100%|██████████| 1/1 [00:00<00:00, 1209.08it/s]"
          ]
        },
        {
          "output_type": "stream",
          "name": "stdout",
          "text": [
            "#> Identify the sentence discussing stage.\n",
            "\n",
            "#> QueryTokenizer.tensorize(batch_text[0], batch_background[0], bsize) ==\n",
            "#> Input: . Identify the sentence discussing stage., \t\t True, \t\t None\n",
            "#> Output IDs: torch.Size([32]), tensor([  101,     1,  6709,  1996,  6251, 10537,  2754,  1012,   102,   103,\n",
            "          103,   103,   103,   103,   103,   103,   103,   103,   103,   103,\n",
            "          103,   103,   103,   103,   103,   103,   103,   103,   103,   103,\n",
            "          103,   103])\n",
            "#> Output Mask: torch.Size([32]), tensor([1, 1, 1, 1, 1, 1, 1, 1, 1, 0, 0, 0, 0, 0, 0, 0, 0, 0, 0, 0, 0, 0, 0, 0,\n",
            "        0, 0, 0, 0, 0, 0, 0, 0])\n",
            "\n",
            "\t [1] \t\t 7.8 \t\t After a detailed discussion, informed written consent was obtained.\n",
            "\t [2] \t\t 6.0 \t\t The site was marked.\n",
            "\t [3] \t\t 5.6 \t\t 5) Spiral Acquisition 12.\n",
            "\t [4] \t\t 5.5 \t\t Dr. ___ supervised the trainee during the key components of the procedure and reviewed and agrees with the trainee's findings.\n",
            "\t [5] \t\t 5.5 \t\t 4) Spiral Acquisition 12.\n",
            "#> Identify the sentence discussing histology\n",
            "\t [1] \t\t 9.8 \t\t Samples were sent for microbiology and cytology evaluation.\n",
            "\t [2] \t\t 8.1 \t\t Approximately 20 cc of serous fluid was aspirated with a sample sent for microbiology and cytology evaluation.\n",
            "\t [3] \t\t 7.1 \t\t After a detailed discussion, informed written consent was obtained.\n",
            "\t [4] \t\t 6.9 \t\t The patient was placed in a supine position on the CT scan table.\n",
            "\t [5] \t\t 6.1 \t\t 0 cm; CTDIvol = 1.\n",
            "#> Identify the sentence discussing tumor size\n",
            "\t [1] \t\t 10.1 \t\t 1 cm; CTDIvol = 6.\n",
            "\t [2] \t\t 9.7 \t\t 4 cm; CTDIvol = 15.\n",
            "\t [3] \t\t 9.7 \t\t 4 cm; CTDIvol = 15.\n",
            "\t [4] \t\t 9.6 \t\t 4 cm; CTDIvol = 33.\n",
            "\t [5] \t\t 9.6 \t\t 0 cm; CTDIvol = 1.\n",
            "#> Identify the sentence discussing recurrence\n",
            "\t [1] \t\t 7.8 \t\t Intraprocedural CT fluoroscopy demonstrates repositioning of the patient's existing catheter, deeper into the collection, with contrast inter leaving through the collapsed collection.\n",
            "\t [2] \t\t 7.6 \t\t After a detailed discussion, informed written consent was obtained.\n",
            "\t [3] \t\t 7.0 \t\t CT-guided drainage and catheter repositioning\n",
            "\t [4] \t\t 5.5 \t\t Preprocedure CT demonstrates a collapsed fluid collection containing an 8 ___ pigtail catheter and interval increase in size in the patient's left pelvic collection.\n",
            "\t [5] \t\t 5.5 \t\t The site was marked.\n",
            "\n",
            "\n",
            "[Jul 05, 12:21:07] #> Note: Output directory /content/experiments/notebook/indexes/Mimic.2bits already exists\n",
            "\n",
            "\n",
            "[Jul 05, 12:21:07] #> Will delete 10 files already at /content/experiments/notebook/indexes/Mimic.2bits in 20 seconds...\n"
          ]
        },
        {
          "output_type": "stream",
          "name": "stderr",
          "text": [
            "\n"
          ]
        },
        {
          "output_type": "stream",
          "name": "stdout",
          "text": [
            "#> Starting...\n",
            "#> Joined...\n",
            "[Jul 05, 12:21:42] #> Loading codec...\n",
            "[Jul 05, 12:21:42] #> Loading IVF...\n",
            "[Jul 05, 12:21:42] #> Loading doclens...\n"
          ]
        },
        {
          "output_type": "stream",
          "name": "stderr",
          "text": [
            "100%|██████████| 1/1 [00:00<00:00, 4843.31it/s]"
          ]
        },
        {
          "output_type": "stream",
          "name": "stdout",
          "text": [
            "[Jul 05, 12:21:42] #> Loading codes and residuals...\n"
          ]
        },
        {
          "output_type": "stream",
          "name": "stderr",
          "text": [
            "\n",
            "100%|██████████| 1/1 [00:00<00:00, 1115.51it/s]"
          ]
        },
        {
          "output_type": "stream",
          "name": "stdout",
          "text": [
            "#> Identify the sentence discussing stage.\n",
            "\n",
            "#> QueryTokenizer.tensorize(batch_text[0], batch_background[0], bsize) ==\n",
            "#> Input: . Identify the sentence discussing stage., \t\t True, \t\t None\n",
            "#> Output IDs: torch.Size([32]), tensor([  101,     1,  6709,  1996,  6251, 10537,  2754,  1012,   102,   103,\n",
            "          103,   103,   103,   103,   103,   103,   103,   103,   103,   103,\n",
            "          103,   103,   103,   103,   103,   103,   103,   103,   103,   103,\n",
            "          103,   103])\n",
            "#> Output Mask: torch.Size([32]), tensor([1, 1, 1, 1, 1, 1, 1, 1, 1, 0, 0, 0, 0, 0, 0, 0, 0, 0, 0, 0, 0, 0, 0, 0,\n",
            "        0, 0, 0, 0, 0, 0, 0, 0])\n",
            "\n",
            "\t [1] \t\t 5.7 \t\t Oral contrast was not administered.\n",
            "\t [2] \t\t 5.5 \t\t Small bowel loops demonstrate normal caliber, wall thickness and enhancement throughout.\n",
            "\t [3] \t\t 5.1 \t\t There is 0.\n",
            "\t [4] \t\t 5.0 \t\t ___ year old woman with hx bladder cancer, s/p cystectomy and ileal conduit, post op course c/b pelvic fluid collections and PE, now with frankly blood drain output and worsening anemia.\n",
            "\t [5] \t\t 4.6 \t\t Continued hydronephrosis may be from residual edema.\n",
            "#> Identify the sentence discussing histology\n",
            "\t [1] \t\t 8.4 \t\t  HEPATOBILIARY The liver demonstrates homogenous attenuation throughout.\n",
            "\t [2] \t\t 6.3 \t\t Cholecystectomy.\n",
            "\t [3] \t\t 6.2 \t\t Appendix not identified.\n",
            "\t [4] \t\t 6.2 \t\t Hepatic, portal, splenic veins, SMV, renal veins, IVC are patent.\n",
            "\t [5] \t\t 5.1 \t\t GASTROINTESTINAL Small esophageal hiatal hernia.\n",
            "#> Identify the sentence discussing tumor size\n",
            "\t [1] \t\t 9.9 \t\t There is stable large fluid collection in the left lower abdomen, and pelvis, with mild linear peripheral enhancement, measuring 23 cm in largest diameter.\n",
            "\t [2] \t\t 8.8 \t\t Mass effect about anastomosis between distal ureters and neobladder has resolved all since ___, and while hydronephrosis may be from residual edema, if this does not resolve, alternative etiologies including stenosis, tumor infiltration should be excluded.\n",
            "\t [3] \t\t 8.4 \t\t 3 cm, compared with 7.\n",
            "\t [4] \t\t 7.3 \t\t ___ year old woman with hx bladder cancer, s/p cystectomy and ileal conduit, post op course c/b pelvic fluid collections and PE, now with frankly blood drain output and worsening anemia.\n",
            "\t [5] \t\t 6.2 \t\t GASTROINTESTINAL Small esophageal hiatal hernia.\n",
            "#> Identify the sentence discussing recurrence\n",
            "\t [1] \t\t 8.9 \t\t Rectosigmoid are displaced to the right secondary to large pelvic fluid collection, stable since prior, are incompletely distended, there is suggestion of mild wall thickening, which may be reactive, consider infection, inflammatory bowel disease.\n",
            "\t [2] \t\t 7.7 \t\t Appendix not identified.\n",
            "\t [3] \t\t 6.8 \t\t If this Fluency report was activated before the completion of the dose transmission, please reinsert the token called CT DLP Dose to load new data.\n",
            "\t [4] \t\t 6.0 \t\t Right ureter is sharply dilated near the anastomosis point, while there distal left ureter is thickened and gradually tapers towards the anastomosis.\n",
            "\t [5] \t\t 5.8 \t\t GASTROINTESTINAL Small esophageal hiatal hernia.\n",
            "\n",
            "\n",
            "[Jul 05, 12:21:42] #> Note: Output directory /content/experiments/notebook/indexes/Mimic.2bits already exists\n",
            "\n",
            "\n",
            "[Jul 05, 12:21:42] #> Will delete 10 files already at /content/experiments/notebook/indexes/Mimic.2bits in 20 seconds...\n"
          ]
        },
        {
          "output_type": "stream",
          "name": "stderr",
          "text": [
            "\n"
          ]
        },
        {
          "output_type": "stream",
          "name": "stdout",
          "text": [
            "#> Starting...\n",
            "#> Joined...\n",
            "[Jul 05, 12:22:17] #> Loading codec...\n",
            "[Jul 05, 12:22:17] #> Loading IVF...\n",
            "[Jul 05, 12:22:17] #> Loading doclens...\n"
          ]
        },
        {
          "output_type": "stream",
          "name": "stderr",
          "text": [
            "100%|██████████| 1/1 [00:00<00:00, 5562.74it/s]"
          ]
        },
        {
          "output_type": "stream",
          "name": "stdout",
          "text": [
            "[Jul 05, 12:22:17] #> Loading codes and residuals...\n"
          ]
        },
        {
          "output_type": "stream",
          "name": "stderr",
          "text": [
            "\n",
            "100%|██████████| 1/1 [00:00<00:00, 1099.42it/s]"
          ]
        },
        {
          "output_type": "stream",
          "name": "stdout",
          "text": [
            "#> Identify the sentence discussing stage.\n",
            "\n",
            "#> QueryTokenizer.tensorize(batch_text[0], batch_background[0], bsize) ==\n",
            "#> Input: . Identify the sentence discussing stage., \t\t True, \t\t None\n",
            "#> Output IDs: torch.Size([32]), tensor([  101,     1,  6709,  1996,  6251, 10537,  2754,  1012,   102,   103,\n",
            "          103,   103,   103,   103,   103,   103,   103,   103,   103,   103,\n",
            "          103,   103,   103,   103,   103,   103,   103,   103,   103,   103,\n",
            "          103,   103])\n",
            "#> Output Mask: torch.Size([32]), tensor([1, 1, 1, 1, 1, 1, 1, 1, 1, 0, 0, 0, 0, 0, 0, 0, 0, 0, 0, 0, 0, 0, 0, 0,\n",
            "        0, 0, 0, 0, 0, 0, 0, 0])\n",
            "\n",
            "\t [1] \t\t 7.2 \t\t A fatty structure appears adherent to the lateral right atrial wall abutting an area of atrial calcification could be an interatrial lipoma.\n",
            "\t [2] \t\t 6.1 \t\t The case was posted to the critical findings dashboard for direct notification of the referring physician.\n",
            "\t [3] \t\t 5.4 \t\t The airways are widely patent to subsegmental level bilaterally.\n",
            "\t [4] \t\t 5.1 \t\t No destructive or sclerotic bone lesions are present.\n",
            "\t [5] \t\t 5.1 \t\t Dense homogeneous consolidation in the right lower lobe (3.\n",
            "#> Identify the sentence discussing histology\n",
            "\t [1] \t\t 7.0 \t\t No previous CT was available for comparison.\n",
            "\t [2] \t\t 6.9 \t\t The case was posted to the critical findings dashboard for direct notification of the referring physician.\n",
            "\t [3] \t\t 5.6 \t\t A fatty structure appears adherent to the lateral right atrial wall abutting an area of atrial calcification could be an interatrial lipoma.\n",
            "\t [4] \t\t 4.7 \t\t 3)Probable interatrial lipoma.\n",
            "\t [5] \t\t 4.7 \t\t CT chest without contrast.\n",
            "#> Identify the sentence discussing tumor size\n",
            "\t [1] \t\t 11.8 \t\t These nodules range in size from 1 to 4 mm.\n",
            "\t [2] \t\t 10.0 \t\t The left lobe of the thyroid is heterogenous and enlarged at 21 x 27 mm.\n",
            "\t [3] \t\t 9.6 \t\t 3)Probable interatrial lipoma.\n",
            "\t [4] \t\t 9.6 \t\t The aorta, and heart size are normal with no pericardial effusion.\n",
            "\t [5] \t\t 8.6 \t\t A fatty structure appears adherent to the lateral right atrial wall abutting an area of atrial calcification could be an interatrial lipoma.\n",
            "#> Identify the sentence discussing recurrence\n",
            "\t [1] \t\t 9.6 \t\t 1)Severe right lower lobe consolidation, progressed or recurrent over a year, and extensive, new diffuse lung nodules most readily explained by multifocal bronchioalveolar carcinoma.\n",
            "\t [2] \t\t 6.4 \t\t A right pleural effusion is minimal, and no pathologically enlargement of mediastinal or axillary lymph nodes is present.\n",
            "\t [3] \t\t 6.1 \t\t 3)Probable interatrial lipoma.\n",
            "\t [4] \t\t 6.0 \t\t The case was posted to the critical findings dashboard for direct notification of the referring physician.\n",
            "\t [5] \t\t 5.9 \t\t A fatty structure appears adherent to the lateral right atrial wall abutting an area of atrial calcification could be an interatrial lipoma.\n",
            "\n",
            "\n",
            "[Jul 05, 12:22:17] #> Note: Output directory /content/experiments/notebook/indexes/Mimic.2bits already exists\n",
            "\n",
            "\n",
            "[Jul 05, 12:22:17] #> Will delete 10 files already at /content/experiments/notebook/indexes/Mimic.2bits in 20 seconds...\n"
          ]
        },
        {
          "output_type": "stream",
          "name": "stderr",
          "text": [
            "\n"
          ]
        },
        {
          "output_type": "stream",
          "name": "stdout",
          "text": [
            "#> Starting...\n",
            "#> Joined...\n",
            "[Jul 05, 12:22:53] #> Loading codec...\n",
            "[Jul 05, 12:22:53] #> Loading IVF...\n",
            "[Jul 05, 12:22:53] #> Loading doclens...\n"
          ]
        },
        {
          "output_type": "stream",
          "name": "stderr",
          "text": [
            "100%|██████████| 1/1 [00:00<00:00, 5275.85it/s]"
          ]
        },
        {
          "output_type": "stream",
          "name": "stdout",
          "text": [
            "[Jul 05, 12:22:53] #> Loading codes and residuals...\n"
          ]
        },
        {
          "output_type": "stream",
          "name": "stderr",
          "text": [
            "\n",
            "100%|██████████| 1/1 [00:00<00:00, 1072.16it/s]"
          ]
        },
        {
          "output_type": "stream",
          "name": "stdout",
          "text": [
            "#> Identify the sentence discussing stage.\n",
            "\n",
            "#> QueryTokenizer.tensorize(batch_text[0], batch_background[0], bsize) ==\n",
            "#> Input: . Identify the sentence discussing stage., \t\t True, \t\t None\n",
            "#> Output IDs: torch.Size([32]), tensor([  101,     1,  6709,  1996,  6251, 10537,  2754,  1012,   102,   103,\n",
            "          103,   103,   103,   103,   103,   103,   103,   103,   103,   103,\n",
            "          103,   103,   103,   103,   103,   103,   103,   103,   103,   103,\n",
            "          103,   103])\n",
            "#> Output Mask: torch.Size([32]), tensor([1, 1, 1, 1, 1, 1, 1, 1, 1, 0, 0, 0, 0, 0, 0, 0, 0, 0, 0, 0, 0, 0, 0, 0,\n",
            "        0, 0, 0, 0, 0, 0, 0, 0])\n",
            "\n",
            "\t [1] \t\t 6.4 \t\t There is a heterogeneous 3.\n",
            "\t [2] \t\t 6.3 \t\t BONE WINDOWS No suspicious lytic or sclerotic osseous lesion is identified.\n",
            "\t [3] \t\t 6.0 \t\t The opacified stomach and intra-abdominal loops of bowel are unremarkable.\n",
            "\t [4] \t\t 4.8 \t\t Two calcified densities within the left buttock are noted, likely injection granulomas.\n",
            "\t [5] \t\t 4.7 \t\t Airways are patent to the subsegmental level.\n",
            "#> Identify the sentence discussing histology\n",
            "\t [1] \t\t 6.6 \t\t BONE WINDOWS No suspicious lytic or sclerotic osseous lesion is identified.\n",
            "\t [2] \t\t 6.5 \t\t There are several low-density well-circumscribed parenchymal and exophytic round lesions within the bilateral kidneys, some of which are too small to further characterize but likely represent simple cysts.\n",
            "\t [3] \t\t 6.1 \t\t There is a heterogeneous 3.\n",
            "\t [4] \t\t 5.4 \t\t Again noted is dense homogeneous consolidation in the right lower lobe containing multiple air bronchograms, which is not significantly changed from the prior CT.  Also again noted are diffuse nodules throughout the remaining lungs, predominantly in the right middle, right lower, and left upper lobe with relative sparing of the apices in left lower lobe.\n",
            "\t [5] \t\t 5.3 \t\t There is no axillary or hilar lymphadenopathy meeting CT criteria for pathologic enlargement.\n",
            "#> Identify the sentence discussing tumor size\n",
            "\t [1] \t\t 8.6 \t\t 9 cm mass in the left lobe of the thyroid.\n",
            "\t [2] \t\t 7.9 \t\t Two calcified densities within the left buttock are noted, likely injection granulomas.\n",
            "\t [3] \t\t 7.7 \t\t The heart is enlarged normal.\n",
            "\t [4] \t\t 7.2 \t\t Subsequently, 5-mm and 1.\n",
            "\t [5] \t\t 6.5 \t\t Again noted is dense homogeneous consolidation in the right lower lobe containing multiple air bronchograms, which is not significantly changed from the prior CT.  Also again noted are diffuse nodules throughout the remaining lungs, predominantly in the right middle, right lower, and left upper lobe with relative sparing of the apices in left lower lobe.\n",
            "#> Identify the sentence discussing recurrence\n",
            "\t [1] \t\t 7.9 \t\t The urinary bladder, distal ureters, uterus, adnexa, and rectum are unremarkable.\n",
            "\t [2] \t\t 6.6 \t\t Again noted is dense homogeneous consolidation in the right lower lobe containing multiple air bronchograms, which is not significantly changed from the prior CT.  Also again noted are diffuse nodules throughout the remaining lungs, predominantly in the right middle, right lower, and left upper lobe with relative sparing of the apices in left lower lobe.\n",
            "\t [3] \t\t 6.3 \t\t There is no pericardial effusion.\n",
            "\t [4] \t\t 5.9 \t\t Calcification of the coronary arteries is also noted.\n",
            "\t [5] \t\t 5.7 \t\t The opacified stomach and intra-abdominal loops of bowel are unremarkable.\n"
          ]
        },
        {
          "output_type": "stream",
          "name": "stderr",
          "text": [
            "\n"
          ]
        }
      ]
    },
    {
      "cell_type": "code",
      "source": [
        "file_path = 'data.json'\n",
        "\n",
        "with open(file_path, 'w') as file:\n",
        "    json.dump(Data, file,indent=4)"
      ],
      "metadata": {
        "id": "5HmaI0WCnXnV"
      },
      "execution_count": null,
      "outputs": []
    },
    {
      "cell_type": "code",
      "source": [],
      "metadata": {
        "id": "uiB0rvmO3BVE"
      },
      "execution_count": null,
      "outputs": []
    }
  ],
  "metadata": {
    "accelerator": "GPU",
    "colab": {
      "gpuType": "T4",
      "provenance": []
    },
    "kernelspec": {
      "display_name": "Python 3",
      "name": "python3"
    },
    "language_info": {
      "codemirror_mode": {
        "name": "ipython",
        "version": 3
      },
      "file_extension": ".py",
      "mimetype": "text/x-python",
      "name": "python",
      "nbconvert_exporter": "python",
      "pygments_lexer": "ipython3",
      "version": "3.9.1"
    }
  },
  "nbformat": 4,
  "nbformat_minor": 0
}